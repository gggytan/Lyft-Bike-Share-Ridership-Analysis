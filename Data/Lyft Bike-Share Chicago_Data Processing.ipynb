{
 "cells": [
  {
   "cell_type": "code",
   "execution_count": null,
   "id": "1f9d8463",
   "metadata": {},
   "outputs": [],
   "source": [
    "import pandas as pd\n",
    "import os\n",
    "import numpy as np"
   ]
  },
  {
   "cell_type": "markdown",
   "id": "6d06db0a",
   "metadata": {},
   "source": [
    "# Data Gathering"
   ]
  },
  {
   "cell_type": "code",
   "execution_count": null,
   "id": "1d2ee770",
   "metadata": {},
   "outputs": [],
   "source": [
    "os.chdir(\"../Raw Data\")"
   ]
  },
  {
   "cell_type": "code",
   "execution_count": null,
   "id": "ad13bb09",
   "metadata": {},
   "outputs": [],
   "source": [
    "df = pd.concat([pd.read_csv(\"202301-divvy-tripdata.csv\"), pd.read_csv(\"202302-divvy-tripdata.csv\"), pd.read_csv(\"202303-divvy-tripdata.csv\"),\n",
    "               pd.read_csv(\"202304-divvy-tripdata.csv\"), pd.read_csv(\"202305-divvy-tripdata.csv\"), pd.read_csv(\"202306-divvy-tripdata.csv\"),\n",
    "               pd.read_csv(\"202307-divvy-tripdata.csv\"), pd.read_csv(\"202308-divvy-tripdata.csv\"), pd.read_csv(\"202309-divvy-tripdata.csv\"),\n",
    "               pd.read_csv(\"202310-divvy-tripdata.csv\"), pd.read_csv(\"202311-divvy-tripdata.csv\"), pd.read_csv(\"202312-divvy-tripdata.csv\")])"
   ]
  },
  {
   "cell_type": "code",
   "execution_count": null,
   "id": "8610b7ae",
   "metadata": {},
   "outputs": [],
   "source": [
    "df.to_csv(\"2023-divvy-tripdata.csv\")"
   ]
  },
  {
   "cell_type": "code",
   "execution_count": null,
   "id": "a1304ae9",
   "metadata": {},
   "outputs": [],
   "source": [
    "df = pd.read_csv(\"2023-divvy-tripdata.csv\")"
   ]
  },
  {
   "cell_type": "code",
   "execution_count": null,
   "id": "81d5020f",
   "metadata": {},
   "outputs": [],
   "source": [
    "df.info()"
   ]
  },
  {
   "cell_type": "code",
   "execution_count": null,
   "id": "91e26730",
   "metadata": {
    "scrolled": false
   },
   "outputs": [],
   "source": [
    "df.describe()"
   ]
  },
  {
   "cell_type": "code",
   "execution_count": null,
   "id": "bc47df9b",
   "metadata": {},
   "outputs": [],
   "source": [
    "df.drop(\"Unnamed: 0\", axis = 1, inplace =True)"
   ]
  },
  {
   "cell_type": "code",
   "execution_count": null,
   "id": "bee14b9d",
   "metadata": {
    "scrolled": true
   },
   "outputs": [],
   "source": [
    "df[df['start_station_name'].isna()]"
   ]
  },
  {
   "cell_type": "markdown",
   "id": "13231d51",
   "metadata": {},
   "source": [
    "# Data Processing\n",
    "\n",
    "## Cleaning \n",
    "- duplicate (ride_id)\n",
    "- null/missing data (except start_station_id, and end_station_id)\n",
    "## Validation\n",
    "- inconsistency (ended_at < started_at)\n",
    "- check latitude and longitude <br>\n",
    "  $\\quad$ Relevent link: Chicago Maphttps://wikimap.toolforge.org/?lang=en&page=Chicago<br>\n",
    "  $\\quad$ Chicago coordinate (Approximate):<br>\n",
    "    $\\quad$$\\quad$lat_max: 42.02296 <br>\n",
    "    $\\quad$$\\quad$lat_min: 41.64378 <br>\n",
    "    $\\quad$$\\quad$lng_max: -87.52509 <br>\n",
    "    $\\quad$$\\quad$lng_min: -87.94014 <br>\n",
    "        \n",
    "## Add Attributes\n",
    "- weekday (Mon-Sun)\n",
    "- Month (Jan-Dec)\n",
    "- holiday (e.g.Christimas, Thanksgiving)   <br>\n",
    "    relevent link: https://www.independent.co.uk/life-style/federal-holidays-2023-dates-december-b2468299.html\n",
    "- duration in minute\n",
    "- distance in km\n",
    "- speed"
   ]
  },
  {
   "cell_type": "code",
   "execution_count": null,
   "id": "79193719",
   "metadata": {},
   "outputs": [],
   "source": [
    "df[df.duplicated()]\n",
    "#df[df.duplicated(subset = 'ride_id')]"
   ]
  },
  {
   "cell_type": "code",
   "execution_count": null,
   "id": "3381a276",
   "metadata": {},
   "outputs": [],
   "source": [
    "df.isna().sum()"
   ]
  },
  {
   "cell_type": "code",
   "execution_count": null,
   "id": "6f2c6840",
   "metadata": {},
   "outputs": [],
   "source": [
    "#929202/5719877\n",
    "6990/5719877"
   ]
  },
  {
   "cell_type": "markdown",
   "id": "1cd5b252",
   "metadata": {},
   "source": [
    "- Based on above process, there is no duplicate in the dataset.\n",
    "- About 16% station name and id are missing. This may be caused by user did not start/stop at the designated stations. It could happen when there is no station nearby or the bike is stole.\n",
    "- 6990 pairs of end coordinates are missing. Based the distribution of end latitude and longtitude, it is in a small range with no outliers. Also, cconsidering it only takes 1.22% dataset, it can be replace with the mean of end latitude and longtitude.\n",
    "- Station ids and ride id can be removed, because they won't contribute to our analysis.\n",
    "- Station name should be saved to do further analysis, rename them based on the coordinate.(lat_lng)"
   ]
  },
  {
   "cell_type": "code",
   "execution_count": null,
   "id": "cbbcf1a6",
   "metadata": {},
   "outputs": [],
   "source": [
    "#Calculate the means of the columns having missing values\n",
    "end_lat_mean, end_lng_mean = (df['end_lat'].mean(), df['end_lng'].mean()) \n",
    "\n",
    "# Replace NaNs in column end_lat and end_lng with means values\n",
    "df['end_lat'].fillna(value = end_lat_mean, inplace = True)\n",
    "df['end_lng'].fillna(value = end_lng_mean, inplace = True)"
   ]
  },
  {
   "cell_type": "code",
   "execution_count": null,
   "id": "d5efd78b",
   "metadata": {},
   "outputs": [],
   "source": [
    "df.drop([\"ride_id\",\"end_station_id\", \"start_station_id\"], axis = 1, inplace = True)"
   ]
  },
  {
   "cell_type": "markdown",
   "id": "d8e31b8b",
   "metadata": {},
   "source": [
    "######################### Station Name (Unsaved Change) ################################"
   ]
  },
  {
   "cell_type": "code",
   "execution_count": null,
   "id": "d40fed5d",
   "metadata": {},
   "outputs": [],
   "source": [
    "df1 = df[df['start_station_name'].isna() | df['end_station_name'].isna()]\n",
    "#df1['end_station_name'].fillna(value = df1['end_lat'].astype(str) + df1['end_lng'].astype(str), inplace = True)\n",
    "df1['start_station_name'] = df1['start_station_name'].where(df1['start_station_name'].isna() == False, df1['start_lat'].astype(str)+df['start_lng'].astype(str))\n",
    "df1['end_station_name'] = df1['end_station_name'].where(df1['end_station_name'].isna() == False, df1['end_lat'].astype(str)+df['end_lng'].astype(str))"
   ]
  },
  {
   "cell_type": "markdown",
   "id": "c6f8a1c9",
   "metadata": {},
   "source": [
    "## Validation\n",
    "- inconsistency (ended_at < started_at)\n",
    "- check latitude and longitude <br>\n",
    "  $\\quad$ Relevent link: Chicago Map https://wikimap.toolforge.org/?lang=en&page=Chicago<br>\n",
    "  $\\quad$ Chicago coordinate (Approximate):<br>\n",
    "    $\\quad$$\\quad$lat_max: 42.02296 <br>\n",
    "    $\\quad$$\\quad$lat_min: 41.64378 <br>\n",
    "    $\\quad$$\\quad$lng_max: -87.52509 <br>\n",
    "    $\\quad$$\\quad$lng_min: -87.94014 <br>"
   ]
  },
  {
   "cell_type": "markdown",
   "id": "3dce7077",
   "metadata": {},
   "source": [
    "In order to validate the start and end time, converting data type from object to Datetime is required.<br>\n",
    "Considering this analysis only focus on Chicago area, only records of trips that occurred in Chicago should be selected. It will be achieved by using extreme coordinate of Chicago."
   ]
  },
  {
   "cell_type": "code",
   "execution_count": null,
   "id": "38cb421f",
   "metadata": {},
   "outputs": [],
   "source": [
    "# Convert timestamps to Datetime format\n",
    "df['started_at'] = pd.to_datetime(df['started_at'], format='%Y-%m-%d %H:%M:%S')\n",
    "df['ended_at'] = pd.to_datetime(df['ended_at'], format='%Y-%m-%d %H:%M:%S')"
   ]
  },
  {
   "cell_type": "code",
   "execution_count": null,
   "id": "b19526cc",
   "metadata": {},
   "outputs": [],
   "source": [
    "# Filter out invalide rides\n",
    "df = df[df['ended_at'] > df['started_at']] #272\n",
    "\n",
    "# Filter out rides with out-of-Chicago coordinate\n",
    "df = df[(df['start_lat'] < 42.064955 ) & (df['start_lat'] > 41.64378)] #226\n",
    "df = df[(df['end_lat'] < 42.064955 ) & (df['end_lat'] > 41.64378)] #332\n",
    "df = df[(df['start_lng'] < -87.52) & (df['start_lng'] > -87.94014)] #1\n",
    "df = df[(df['end_lng'] < -87.52) & (df['end_lng'] > -87.94014)] #15"
   ]
  },
  {
   "cell_type": "code",
   "execution_count": null,
   "id": "dc42e7eb",
   "metadata": {},
   "outputs": [],
   "source": [
    "df[(df['end_lng']>-87.52) | (df['end_lng']<-87.94014)] #OH Charging Stx - Test"
   ]
  },
  {
   "cell_type": "code",
   "execution_count": null,
   "id": "54383b85",
   "metadata": {},
   "outputs": [],
   "source": [
    "df[(df['end_station_name'] == 'OH Charging Stx - Test') | (df['start_station_name'] == 'OH Charging Stx - Test')]"
   ]
  },
  {
   "cell_type": "code",
   "execution_count": null,
   "id": "f9bb3d48",
   "metadata": {},
   "outputs": [],
   "source": [
    "df.iloc[3413675, 7] = 41.780506\n",
    "df.iloc[3413675, 8] = -87.586853\n",
    "\n",
    "df.iloc[2149865, 7] = 41.86257\n",
    "df.iloc[2149865, 8] = -87.679935\n",
    "\n",
    "df.iloc[2159176, 7] = 41.86257\n",
    "df.iloc[2159176, 8] = -87.679935"
   ]
  },
  {
   "cell_type": "markdown",
   "id": "34db20a4",
   "metadata": {},
   "source": [
    "During checking data quality, we removed total **1826** lines of invalid data, including 272 invalid rides (*end time is ahead of start time*), and 1554 rides that are out of Chicago.<br>\n",
    "While filtering ride out of the range, there are 3 records contains station name, but no coordinates. This may be caused by unstable Internet or other technical issue. By searching station name in the data set, it has been manually updated."
   ]
  },
  {
   "cell_type": "markdown",
   "id": "7ef9e88c",
   "metadata": {},
   "source": [
    "## Add Attributes\n",
    "- duration in minute\n",
    "- distance in km\n",
    "- speed\n",
    "- weekday (Mon-Sun)\n",
    "- Month (Jan-Dec)\n",
    "- (Optional) holiday (e.g.Christimas, Thanksgiving)   <br>\n",
    "    relevent link: https://www.independent.co.uk/life-style/federal-holidays-2023-dates-december-b2468299.html\n"
   ]
  },
  {
   "cell_type": "code",
   "execution_count": null,
   "id": "b632888a",
   "metadata": {},
   "outputs": [],
   "source": [
    "# Calculate ride durations\n",
    "df['duration'] = df['ended_at'] - df['started_at']\n",
    "\n",
    "# Convert ride durations into minutes\n",
    "df['duration_m'] = df['duration'].dt.total_seconds() / 60\n",
    "\n",
    "# Convert ride durations into hours\n",
    "df['duration_h'] = df['duration'].dt.total_seconds() / 3600"
   ]
  },
  {
   "cell_type": "code",
   "execution_count": null,
   "id": "1454c6e4",
   "metadata": {},
   "outputs": [],
   "source": [
    "conda install -c conda-forge pyproj"
   ]
  },
  {
   "cell_type": "code",
   "execution_count": null,
   "id": "674dbc6d",
   "metadata": {},
   "outputs": [],
   "source": [
    "# Calculate distance in km\n",
    "from pyproj import Geod\n",
    "\n",
    "def get_distance(start_lat, start_lng, end_lat, end_lng):\n",
    "    g = Geod(ellps='WGS84')\n",
    "    # 2D distance in meters with longitude, latitude of the points\n",
    "    azimuth1, azimuth2, distance_2d = g.inv(start_lat, start_lng, end_lat, end_lng)\n",
    "    return distance_2d"
   ]
  },
  {
   "cell_type": "code",
   "execution_count": null,
   "id": "0994eec9",
   "metadata": {},
   "outputs": [],
   "source": [
    "df['distance'] = get_distance(df['start_lat'].tolist(), df['start_lng'].tolist(), df['end_lat'].tolist(), df['end_lng'].tolist())"
   ]
  },
  {
   "cell_type": "code",
   "execution_count": null,
   "id": "4e246a62",
   "metadata": {},
   "outputs": [],
   "source": [
    "df['distance'] = df['distance'] / 1000"
   ]
  },
  {
   "cell_type": "code",
   "execution_count": null,
   "id": "ea0d6a93",
   "metadata": {},
   "outputs": [],
   "source": [
    "# Extract day of the week for each ride from the 'started_at_datetime' value (Monday = 0, Tuesday = 1, etc.)\n",
    "df['day_of_week_num'] = df['started_at'].dt.dayofweek\n",
    "\n",
    "# Extract date (start) for each ride\n",
    "df['day_of_month'] = df['started_at'].dt.day\n",
    "\n",
    "# Extract hour (start) for each ride\n",
    "df['start_hour'] = df['started_at'].dt.hour\n",
    "\n",
    "# Map week days values\n",
    "week_days = {0:\"Monday\", 1:\"Tuesday\", 2:\"Wednesday\", 3:\"Thursday\", 4:\"Friday\", 5:\"Saturday\", 6:\"Sunday\"}\n",
    "df['day_of_week'] = df['day_of_week_num'].map(week_days)"
   ]
  },
  {
   "cell_type": "code",
   "execution_count": null,
   "id": "d187dbed",
   "metadata": {},
   "outputs": [],
   "source": [
    "# Calculate speed\n",
    "df['ride_speed'] = df['distance'] / df['duration_h']"
   ]
  },
  {
   "cell_type": "code",
   "execution_count": null,
   "id": "a3e11766",
   "metadata": {
    "scrolled": true
   },
   "outputs": [],
   "source": [
    "df"
   ]
  },
  {
   "cell_type": "code",
   "execution_count": null,
   "id": "0ec98ce3",
   "metadata": {},
   "outputs": [],
   "source": [
    "# Reset index and print dataframe preview\n",
    "df.reset_index(drop=True, inplace = True)"
   ]
  },
  {
   "cell_type": "code",
   "execution_count": null,
   "id": "87475e84",
   "metadata": {},
   "outputs": [],
   "source": [
    "df.describe()"
   ]
  },
  {
   "cell_type": "code",
   "execution_count": null,
   "id": "42ffc771",
   "metadata": {},
   "outputs": [],
   "source": [
    "df.info()"
   ]
  },
  {
   "cell_type": "code",
   "execution_count": null,
   "id": "0fa5130d",
   "metadata": {},
   "outputs": [],
   "source": [
    "df[(df['distance'] == 0)]"
   ]
  },
  {
   "cell_type": "code",
   "execution_count": null,
   "id": "a900a174",
   "metadata": {
    "scrolled": true
   },
   "outputs": [],
   "source": [
    "#df[(df['duration_m'] < 1)  & (df['distance'] == 0)]#81954\n",
    "df[(df['duration_m'] < 1)  & (df['distance'] == 0) & (df['start_station_name'] == df['end_station_name'])] #41142"
   ]
  },
  {
   "cell_type": "markdown",
   "id": "a8cc4ce5",
   "metadata": {},
   "source": [
    "By observing the statistics, the minimum of ride speed is 0. Considering speed is determined by distance and duration in hour. It is likely caused by distance is equal to 0. This hypothesis is proven by filtering trips with same output where distance is 0 or speed is 0. (287768 rows)<br>\n",
    "When we pull out the data, there are over 280k trips. Based on that, it is unlikely to be technical problems but normal case.<br>\n",
    "\n",
    "- Senario 1 (Duration > 1 minute & start place = end place):</br>\n",
    "    The trip has same departure and arrival location. Because of the privacy terms, there is no data about stops and detailed trip data. In senario 1, even though the speed may not accurately reflect the real story, those data are still valid.\n",
    "- Senario 2 (Duration < 1 minute & start place = end place):</br>\n",
    "    The trip has same departure and arrival location, and the duration is less than 1 minute. It is likely to be accidental check-ins or check-outs. In senario 2, those data will not contribute to the analysis; thus, removing them to avoid the distortion caused by it.\n",
    "- Senario 3 (108548 rows: Duration > 1 minute & start place != end place & distance = 0):<br>\n",
    "    The departure and arrival names are different, and the latitudes and longitudes are same. It is likely cause by technical issue. <br>\n",
    "- Senario 4 (Duration < 1 minute & start place != end place & distance = 0) <br>\n",
    "    * Special case: Through further investigation, there are several pairs of similar station name inputs.(e.g. start_station_name: Wilton Ave & Diversey Pkwy* & end_station_name: Wilton Ave & Diversey Pkwy; start_station_name: Wilton Ave & Diversey Pkwy (Temp) & end_station_name: Wilton Ave & Diversey Pkwy) Because how the station name is define is unclear, let's assume different station name refers to different place, even if they are similar.<br>\n",
    "\n",
    "\n",
    "To solve this inconsistency, remove rides less then 1 minute would be reasonable to remve unrealistic trips."
   ]
  },
  {
   "cell_type": "code",
   "execution_count": null,
   "id": "3b3bf9cd",
   "metadata": {},
   "outputs": [],
   "source": [
    "# for x in df[\"end_station_name\"].unique():\n",
    "#     if (type(x) is str):\n",
    "#         if 'Temp' in x:\n",
    "#             print(x)"
   ]
  },
  {
   "cell_type": "code",
   "execution_count": null,
   "id": "7376b2cf",
   "metadata": {},
   "outputs": [],
   "source": [
    "# Filter out rides less than 1 minute or over 24 hours\n",
    "df = df[(df['duration_m'] > 1) & (df['duration_m'] < 24)]"
   ]
  },
  {
   "cell_type": "markdown",
   "id": "3d01b92a",
   "metadata": {},
   "source": [
    "Based on the regulation published in 2017, the speed limit for bicycle is 30 mph(approx.  48 km/h).<br>\n",
    "Revelent link: https://www.chicago.gov/content/dam/city/depts/bacp/publicvehicleinfo/publicchauffer/TipsforMotorist03072017.pdf"
   ]
  },
  {
   "cell_type": "code",
   "execution_count": null,
   "id": "3d93effe",
   "metadata": {},
   "outputs": [],
   "source": [
    "# Filter out speed greater than 48 km/h\n",
    "df = df[df['ride_speed'] <= 48]"
   ]
  },
  {
   "cell_type": "code",
   "execution_count": null,
   "id": "35a04d7b",
   "metadata": {},
   "outputs": [],
   "source": [
    "# Reset index and print dataframe preview\n",
    "df.reset_index(drop = True, inplace = True)"
   ]
  },
  {
   "cell_type": "code",
   "execution_count": null,
   "id": "5abb5d24",
   "metadata": {},
   "outputs": [],
   "source": [
    "# Save the processed data\n",
    "df.to_csv(\"2023-divvy-tripdata_processed.csv\")"
   ]
  }
 ],
 "metadata": {
  "kernelspec": {
   "display_name": "Python 3 (ipykernel)",
   "language": "python",
   "name": "python3"
  },
  "language_info": {
   "codemirror_mode": {
    "name": "ipython",
    "version": 3
   },
   "file_extension": ".py",
   "mimetype": "text/x-python",
   "name": "python",
   "nbconvert_exporter": "python",
   "pygments_lexer": "ipython3",
   "version": "3.10.9"
  }
 },
 "nbformat": 4,
 "nbformat_minor": 5
}
